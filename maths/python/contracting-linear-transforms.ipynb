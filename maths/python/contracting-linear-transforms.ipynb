{
 "cells": [
  {
   "cell_type": "code",
   "execution_count": 1,
   "metadata": {},
   "outputs": [],
   "source": [
    "import numpy as np\n",
    "import matplotlib.pyplot as plt"
   ]
  },
  {
   "cell_type": "code",
   "execution_count": null,
   "metadata": {},
   "outputs": [],
   "source": [
    "P = np.random.rand(3, 3)  \n",
    "P = P / np.linalg.det(P)\n",
    "print(\"P:\", P)\n",
    "eig_vals, eig_vecs = np.linalg.eig(P)\n",
    "\n",
    "D = np.diag(np.random.rand(3))\n",
    "print(\"D: \", D)\n",
    "\n",
    "A = np.matmul(np.matmul(P, D), np.linalg.inv(P))\n",
    "print(\"A: \", A)\n",
    "\n",
    "print(np.linalg.eig(A))"
   ]
  },
  {
   "cell_type": "markdown",
   "metadata": {},
   "source": [
    "**Contracting Transform**"
   ]
  },
  {
   "cell_type": "code",
   "execution_count": 28,
   "metadata": {},
   "outputs": [
    {
     "name": "stdout",
     "output_type": "stream",
     "text": [
      "[[ 0.16454436 -0.07332991  0.01229688]\n",
      " [ 0.27821208 -1.18247857  1.38080723]\n",
      " [ 0.25552232 -0.41348794  0.3179342 ]]\n",
      "0.5132208353298724\n",
      "0.3362599809456283\n",
      "0.22036644120963336\n",
      "0.12315536049545343\n",
      "0.06575588312503779\n",
      "0.03410417494524759\n",
      "0.01742292326913983\n",
      "0.008822454207011101\n",
      "0.004444557333859024\n",
      "0.002232275644559663\n"
     ]
    }
   ],
   "source": [
    "# Initial vector\n",
    "x = np.array([1, 1, 1])\n",
    "\n",
    "# Contracting Transform\n",
    "D = np.diag([-0.5, -0.3, 0.1])\n",
    "A = P @ D @ np.linalg.inv(P)\n",
    "print(A)\n",
    "\n",
    "# Contraction\n",
    "for i in range(10):\n",
    "    x = A @ x\n",
    "    print(np.linalg.norm(x))"
   ]
  },
  {
   "cell_type": "code",
   "execution_count": null,
   "metadata": {},
   "outputs": [],
   "source": []
  }
 ],
 "metadata": {
  "kernelspec": {
   "display_name": "Python 3",
   "language": "python",
   "name": "python3"
  },
  "language_info": {
   "codemirror_mode": {
    "name": "ipython",
    "version": 3
   },
   "file_extension": ".py",
   "mimetype": "text/x-python",
   "name": "python",
   "nbconvert_exporter": "python",
   "pygments_lexer": "ipython3",
   "version": "3.7.6"
  }
 },
 "nbformat": 4,
 "nbformat_minor": 4
}
