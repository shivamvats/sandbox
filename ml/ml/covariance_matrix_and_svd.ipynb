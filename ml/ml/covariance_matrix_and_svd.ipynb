{
 "cells": [
  {
   "cell_type": "code",
   "execution_count": 1,
   "metadata": {},
   "outputs": [],
   "source": [
    "import numpy as np\n",
    "import matplotlib.pyplot as plt\n",
    "import seaborn as sns\n",
    "sns.set()"
   ]
  },
  {
   "cell_type": "markdown",
   "metadata": {},
   "source": [
    "## Covariance Matrix\n",
    "The covariance matrix is a symmetric positive semi-definite matrix.\n",
    "\n",
    "The diagonal terms are the variance of that variable.\n",
    "\n",
    "The off-diagonal terms s_ij are positive if those terms are positively linearly related and negative if they are negatively linearly related and 0 if they are independent."
   ]
  },
  {
   "cell_type": "code",
   "execution_count": 13,
   "metadata": {},
   "outputs": [
    {
     "data": {
      "text/plain": [
       "<AxesSubplot:>"
      ]
     },
     "execution_count": 13,
     "metadata": {},
     "output_type": "execute_result"
    },
    {
     "data": {
      "image/png": "[encoded data removed]",
      "text/plain": [
       "<Figure size 432x288 with 2 Axes>"
      ]
     },
     "metadata": {},
     "output_type": "display_data"
    }
   ],
   "source": [
    "fig, axs = plt.subplots(1, 2)\n",
    "mean = np.zeros(2)\n",
    "cov1 = np.eye(2)\n",
    "cov2 = np.array([[1, 0.8], [0.8, 1]])\n",
    "for ax in axs:\n",
    "    ax.set_xlim(-5, 5)\n",
    "    ax.set_ylim(-5, 5)\n",
    "samples = np.random.multivariate_normal(mean, cov1, 500)\n",
    "sns.kdeplot(samples[:,0], samples[:,1],  shade=True, ax=axs[0])\n",
    "samples = np.random.multivariate_normal(mean, cov2, 500)\n",
    "sns.kdeplot(samples[:,0], samples[:,1],  shade=True, ax=axs[1])\n"
   ]
  },
  {
   "cell_type": "code",
   "execution_count": null,
   "metadata": {},
   "outputs": [],
   "source": []
  }
 ],
 "metadata": {
  "kernelspec": {
   "display_name": "Python 3",
   "language": "python",
   "name": "python3"
  },
  "language_info": {
   "codemirror_mode": {
    "name": "ipython",
    "version": 3
   },
   "file_extension": ".py",
   "mimetype": "text/x-python",
   "name": "python",
   "nbconvert_exporter": "python",
   "pygments_lexer": "ipython3",
   "version": "3.8.3"
  }
 },
 "nbformat": 4,
 "nbformat_minor": 4
}
